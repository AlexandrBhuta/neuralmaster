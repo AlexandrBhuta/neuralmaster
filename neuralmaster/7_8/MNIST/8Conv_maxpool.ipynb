{
 "cells": [
  {
   "cell_type": "code",
   "execution_count": 1,
   "metadata": {
    "collapsed": true
   },
   "outputs": [],
   "source": [
    "import numpy\n",
    "# составляющей.специальный для сигмоидной функции expit()\n",
    "import scipy.special\n",
    "#import scipy.ndimage\n",
    "# библиотека для построения массивов\n",
    "import matplotlib.pyplot\n",
    "# убедитесь, что участки находятся внутри этой записной книжки, а не внешнего окна\n",
    "%matplotlib inline\n",
    "#plt.show() # Вместо %matplotlib inline в других средах, не notebook\n",
    "#import scipy.misc\n",
    "# glob помогает выбрать несколько файлов, используя шаблоны\n",
    "#import glob\n",
    "from time import time, sleep #Для замера времени выполнения функций\n",
    "from tqdm import tqdm #Для вывода прогресса вычисления функций\n",
    "from tqdm import tqdm_notebook #Для вывода прогресса вычисления функций. Только для python notebook\n",
    "import sys\n",
    "# glob помогает выбрать несколько файлов, используя шаблоны\n",
    "import glob\n",
    "# помощник для загрузки данных из файлов изображений PNG\n",
    "import scipy.misc\n",
    "import re # Для извлечения дробной и целой части"
   ]
  },
  {
   "cell_type": "code",
   "execution_count": 2,
   "metadata": {
    "collapsed": true
   },
   "outputs": [],
   "source": [
    "\n",
    "# Определение класса нейронной сети\n",
    "class neuralNetwork:\n",
    "    \n",
    "    \n",
    "    # инициализация нейронной сети\n",
    "    def __init__(self, inputnodes, hiddennodes, outputnodes, learningrate, hiddennodes2): #констр.(входной слой, скрытый слой, выходной слой)\n",
    "        # задать количество узлов во всех входных, скрытых, выходных слоях\n",
    "        self.inodes = inputnodes # входной слой\n",
    "        self.hnodes = hiddennodes # скрытый слой\n",
    "        self.hnodes2 = hiddennodes2 # скрытый слой после пулинга\n",
    "        self.onodes = outputnodes # выходной слой\n",
    "        \n",
    "        self.m = 28 #Размер входного массива(ДхШ)\n",
    "        self.k = 5 #Размер весов (ДхШ)\n",
    "        self.m_k_1 = (self.m-self.k)+1\n",
    "        self.m_k = self.m-self.k\n",
    "        self.stok_w = 9 #Число ядер свертки (весов)\n",
    "        self.stob_w = self.k*self.k #Количество элементов 1го ядра свертки\n",
    "        self.m_k_stw = self.stok_w*self.m_k_1*self.m_k_1 #Общее кол-во элементов выходного слоя = hiddennodes = self.hnodes\n",
    "        self.hidden_inputs = numpy.zeros((self.stok_w, self.m_k_1, self.m_k_1)) #Выходной массив\n",
    "        \n",
    "        # Пулиинг данные\n",
    "        self.pool_m = 2 # Матрица ядра пуллинга\n",
    "        self.m_k_1_pool = int(self.m_k_1/self.pool_m) # Размерность слоя пуллинга\n",
    "        #m_k_1_pool = int(m_k_1_pool) # Размерность слоя пуллинга\n",
    "        self.hidden_outputs_mp = numpy.zeros((self.stok_w, self.m_k_1_pool, self.m_k_1_pool)) # Матрица выходного массива пулинга\n",
    "        self.hidden_outputs_el = numpy.zeros((self.stok_w, self.m_k_1_pool, self.m_k_1_pool), dtype='<U32') # хранит адрес макс элемента\n",
    "        \n",
    "        #Для вывода карт свойст скрытого слоя  \n",
    "        self.hidden_outputs_image = numpy.zeros((self.stok_w, self.m_k_1, self.m_k_1))\n",
    "                                                    # МАТРИЦЫ ВЕСОВ\n",
    "        self.wih = numpy.random.normal(0.0, pow(self.stob_w, -0.5), (self.stok_w, self.k, self.k))\n",
    "        #w_rot180_w1 = rot_180(self.wih, self.stok_w)#Переворачиваем матрицу\n",
    "        #print(self.wih)\n",
    "        \n",
    "        self.who = numpy.random.normal(0.0, pow(self.hnodes, -0.5), (self.hnodes2, self.hnodes))\n",
    "        self.who2 = numpy.random.normal(0.0, pow(self.hnodes2, -0.5), (self.onodes, self.hnodes2)) # После пуллинг слоя\n",
    "        # Спокойно можно задать веса как случайное от -0,5 до 0,5\n",
    "        #self.wih2 = (numpy.random.rand(self.hnodes, self.inodes) -0.5) \n",
    "        #self.who2 = (numpy.random.rand(self.onodes, self.hnodes) -0.5)\n",
    "\n",
    "        # скорость обучения\n",
    "        self.lr = learningrate\n",
    "        \n",
    "        # функция активации-функция сигмоида\n",
    "        self.activation_function = lambda x: scipy.special.expit(x)\n",
    "        self.inverse_activation_function = lambda x: scipy.special.logit(x)\n",
    "        \n",
    "        pass\n",
    "\n",
    "    \n",
    "    # обучение нейронной сети\n",
    "    def train(self, inputs_list, targets_list): # принемает входной список данных,targets ответы\n",
    "        # Преобразовать список входов в 2D массив\n",
    "        #inputs = numpy.array(inputs_list, ndmin=2).T # матрица числа\n",
    "        inputs = numpy.array(inputs_list.reshape(self.m , self.m)) # матрица числа\n",
    "\n",
    "        targets = numpy.array(targets_list, ndmin=2).T # матрица ответов какое это число\n",
    "        \n",
    "        \n",
    "                                        # ВЫЧИСЛЕНИЕ СИГНАЛОВ ПО СЛОЯМ\n",
    "        # вычислить сигналы в скрытом слое (матрица сигналов скрытого слоя)\n",
    "        #hidden_inputs = numpy.dot(self.wih, inputs) # сигнал скр.слоя = вес вх слоя * значение входа, Xhidden = Winput_hidden * I\n",
    "        for s in range(self.stok_w):\n",
    "            for h in range(self.m_k_1):\n",
    "                for w in range(self.m_k_1):\n",
    "                    self.hidden_inputs[s,h,w] = numpy.sum(inputs[h:h+self.k, w:w+self.k] * self.wih[s])\n",
    "        \n",
    "        # вычислить сигналы, возникающие из скрытого слоя. сигмоида(Xhidden - сигнал скр.слоя)\n",
    "        hidden_outputs = self.activation_function(self.hidden_inputs) #Сигмоида\n",
    "        #hidden_outputs = numpy.maximum(self.hidden_inputs, 0.001) # RELU\n",
    "        \n",
    "        # Макспуллинг\n",
    "        for s in range(self.stok_w):\n",
    "            for h in range(self.m_k_1_pool):\n",
    "                for w in range(self.m_k_1_pool):\n",
    "                    temp2 = hidden_outputs[s, h*self.pool_m:h*self.pool_m+self.pool_m, w*self.pool_m:w*self.pool_m+self.pool_m] # Для хранения подматрицы с нулевыми и макс знач.\n",
    "                    self.hidden_outputs_mp[s,h,w] = hidden_outputs[s, h*self.pool_m:h*self.pool_m+self.pool_m, w*self.pool_m:w*self.pool_m+self.pool_m].max() # Матрица выходного массива после пулинга\n",
    "                    for i in range(self.pool_m):\n",
    "                        for j in range(self.pool_m):\n",
    "                            if temp2[i, j] == self.hidden_outputs_mp[s,h,w]:\n",
    "                                temp3 = str(i+h*self.pool_m) + ',' + str(j+w*self.pool_m)\n",
    "                        \n",
    "                    self.hidden_outputs_el[s, h, w] = temp3\n",
    "        \n",
    "        \n",
    "        # вычислить сигналы в окончательный выходной слой (матрица сигналов выходного слоя)\n",
    "        final_inputs = numpy.dot(self.who2, numpy.array(self.hidden_outputs_mp.flatten(), ndmin=2).T) # сигнал вых.слоя = вес скр. слоя * значение сигнала скр.слоя\n",
    "        # вычислить сигналы, исходящие из конечного выходного слоя. сигмоида(Xoutputs - сигнал вых.слоя)\n",
    "        final_outputs = self.activation_function(final_inputs) # Сигмоида\n",
    "        #final_outputs = numpy.maximum(final_inputs, 0) # RELU\n",
    "        #final_outputs = numpy.exp(final_inputs)/numpy.sum(numpy.exp(final_inputs), axis=0) # Софтмакс\n",
    "        #final_outputs = final_inputs # Без функции активации\n",
    "        \n",
    "                                            # ВЫЧИСЛЕНИЕ ОШИБКИ ПО СЛОЯМ\n",
    "        #  ошибка выходного слоя является (цель - фактическое) \n",
    "        output_errors = -(targets - final_outputs)\n",
    "        #output_errors = (final_outputs - targets) # Только для софтмакс\n",
    "        # Скрытая ошибка слоя макспулинга\n",
    "        hidden_errors_mp = numpy.dot(self.who2.T, output_errors)\n",
    "        hidden_errors_mp = self.hidden_outputs_mp.reshape(self.stok_w, self.m_k_1_pool, self.m_k_1_pool)\n",
    "        \n",
    "        # Обнулим ошибки перед пулингом\n",
    "        hidden_errors = numpy.zeros((self.stok_w, self.m_k_1, self.m_k_1))\n",
    "        for s in range(self.stok_w):\n",
    "            for h in range(self.m_k_1_pool):\n",
    "                for w in range(self.m_k_1_pool):\n",
    "                    result = re.split(r'[,]', self.hidden_outputs_el[s,h,w]) # Разбивает строку по разделителю ',' можно сраху несколько разделителей \n",
    "                    i = int(result[0])\n",
    "                    j = int(result[1])\n",
    "                    hidden_errors[s,i,j] = hidden_errors_mp[s,h,w]\n",
    "        \n",
    "                \n",
    "        #hidden_errors = numpy.array(hidden_errors.flatten().transpose(self.stok_w, self.m_k_1, self.m_k_1))\n",
    "        \n",
    "                                            # ОБНОВЛЕНИЕ ВЕСОВ ПО СЛОЯМ\n",
    "        # обновления весов связей между скрытым пуллинг слоем и выходным слоями\n",
    "        #self.who += self.lr * numpy.dot((output_errors * final_outputs * (1.0 - final_outputs)), numpy.transpose(hidden_outputs))\n",
    "        self.who2 -= self.lr * numpy.dot((output_errors * final_outputs * (1.0 - final_outputs)), numpy.transpose(numpy.array(self.hidden_outputs_mp.flatten(), ndmin=2).T)) # Сигмоида        \n",
    "        #self.who += -self.lr * numpy.dot((output_errors), numpy.transpose(numpy.array(hidden_outputs.flatten(), ndmin=2).T)) # Софтмакс\n",
    "        #self.who += -self.lr * numpy.dot((output_errors * (final_outputs > 0)*(final_outputs == 0)), numpy.transpose(numpy.array(hidden_outputs.flatten(), ndmin=2).T))# RELU\n",
    "        \n",
    "        # обновления весов связей между скрытым слоем и пуллинг слоем\n",
    "        #self.who += self.lr * numpy.dot(numpy.array(hidden_errors.flatten(), ndmin=2).T * numpy.array(hidden_outputs.flatten(), ndmin=2).T \n",
    "                                        #* (1.0 - numpy.array(hidden_outputs.flatten(), ndmin=2).T), numpy.transpose(numpy.array(hidden_outputs.flatten(), ndmin=2).T))\n",
    "        \n",
    "        # обновления весов связей между входным и скрытым слоями             \n",
    "        for s in range(self.stok_w):\n",
    "            for h in range(self.m-(self.m_k_1)+1):\n",
    "                for w in range(self.m-(self.m_k_1)+1):\n",
    "                    #w1[s, h, w] = np.sum(e2[s] * x1[h:h+m_k_1, w:w+m_k_1])\n",
    "                    inputs_t = inputs[h:h+self.m_k_1, w:w+self.m_k_1]\n",
    "                    inputs_t = numpy.fliplr(inputs_t)\n",
    "                    inputs_t = numpy.flipud(inputs_t)\n",
    "                    #self.wih[s, h, w] +=  numpy.sum(hidden_errors[s] * inputs_t * self.lr)\n",
    "                    self.wih[s, h, w] -= numpy.sum(hidden_errors[s] * inputs_t * self.lr) #Для софтмакс и без функции активации и RRELU на выходе\n",
    "                    \n",
    "        #Запоминаем карту свойст скрытого слоя для просмотра            \n",
    "        self.hidden_outputs_image = hidden_outputs \n",
    "        pass\n",
    "\n",
    "                                        # МЕТОД ПРОГОНА СВОИХ ЗНАЧЕНИЙ ПО СЕТИ\n",
    "    # запросить нейронную сеть\n",
    "    def query(self, inputs_list): # Функция прогонки по слоям своих данных. Принемает свой набор тестовых данных\n",
    "        # Преобразовать список входов в 2D массив\n",
    "        #inputs = numpy.array(inputs_list, ndmin=2).T\n",
    "        inputs = numpy.array(inputs_list.reshape(self.m , self.m)) # матрица числа\n",
    "        \n",
    "        # вычислить сигналы в скрытом слое (матрица сигналов скрытого слоя)\n",
    "        #hidden_inputs = numpy.dot(self.wih, inputs) # сигнал скр.слоя = вес вх слоя * значение входа, Xhidden = Winput_hidden * I\n",
    "        for s in range(self.stok_w):\n",
    "            for h in range(self.m_k_1):\n",
    "                for w in range(self.m_k_1):\n",
    "                    self.hidden_inputs[s,h,w] = numpy.sum(inputs[h:h+self.k, w:w+self.k] * self.wih[s])\n",
    "        \n",
    "        # вычислить сигналы, возникающие из скрытого слоя. сигмоида(Xhidden - сигнал скр.слоя)\n",
    "        hidden_outputs = self.activation_function(self.hidden_inputs) #Сигмоида\n",
    "        #hidden_outputs = numpy.maximum(self.hidden_inputs, 0.001) # RELU\n",
    "        \n",
    "        # Макспуллинг\n",
    "        for s in range(self.stok_w):\n",
    "            for h in range(self.m_k_1_pool):\n",
    "                for w in range(self.m_k_1_pool):\n",
    "                    temp2 = hidden_outputs[s, h*self.pool_m:h*self.pool_m+self.pool_m, w*self.pool_m:w*self.pool_m+self.pool_m] # Для хранения подматрицы с нулевыми и макс знач.\n",
    "                    self.hidden_outputs_mp[s,h,w] = hidden_outputs[s, h*self.pool_m:h*self.pool_m+self.pool_m, w*self.pool_m:w*self.pool_m+self.pool_m].max() # Матрица выходного массива после пулинга\n",
    "        \n",
    "        \n",
    "        # вычислить сигналы в окончательный выходной слой (матрица сигналов выходного слоя)\n",
    "        final_inputs = numpy.dot(self.who2, numpy.array(self.hidden_outputs_mp.flatten(), ndmin=2).T) # сигнал вых.слоя = вес скр. слоя * значение сигнала скр.слоя\n",
    "        # вычислить сигналы, исходящие из конечного выходного слоя. сигмоида(Xoutputs - сигнал вых.слоя)\n",
    "        final_outputs = self.activation_function(final_inputs) # Сигмоида\n",
    "        #final_outputs = numpy.maximum(final_inputs, 0) # RELU\n",
    "        #final_outputs = numpy.exp(final_inputs)/numpy.sum(numpy.exp(final_inputs), axis=0) # Софтмакс\n",
    "        #final_outputs = final_inputs # Без функции активации\n",
    "        \n",
    "        \n",
    "        return final_outputs\n",
    "    \n",
    "    \n",
    "                                # МЕТОД ОБРАТНОЙ ПОДАЧИ СИГНАЛА НА ВЫХОД НЕЙРОНОЙ СЕТИ\n",
    "    # backquery обратный запрос нейронной сети мы будем использовать ту же терминологию для каждого элемента, \n",
    "    # например цели являются значения справа от сети, хотя используется в качестве входного например \n",
    "    # hidden_output сигнал справа от средних узлов\n",
    "    def backquery(self, targets_list): # аргумент принемает сигнал ответов выхода \n",
    "        # перенесите список целей в вертикальный массив\n",
    "        final_outputs = numpy.array(targets_list, ndmin=2).T\n",
    "        \n",
    "        # вычислить сигнал в конечном выходном слое\n",
    "        # обратная функция сигмоиды x = ln [y/(1-y)] \n",
    "        final_inputs = self.inverse_activation_function(final_outputs) \n",
    "\n",
    "        # вычислить выходной сигнал скрытого слоя\n",
    "        hidden_outputs = numpy.dot(self.who.T, final_inputs)\n",
    "\n",
    "        # масштабировать их обратно до 0,01 до 0,99\n",
    "        hidden_outputs -= numpy.min(hidden_outputs)\n",
    "        hidden_outputs /= numpy.max(hidden_outputs)\n",
    "        hidden_outputs *= 0.98\n",
    "        hidden_outputs += 0.01\n",
    "        \n",
    "        # вычислить сигнал в скрытом слое\n",
    "        hidden_inputs = self.inverse_activation_function(hidden_outputs)\n",
    "        \n",
    "        # вычислить сигнал из входного слоя\n",
    "        inputs = numpy.dot(self.wih.T, hidden_inputs)\n",
    "\n",
    "        # масштабировать их обратно до 0,01 до 0,99\n",
    "        inputs -= numpy.min(inputs)\n",
    "        inputs /= numpy.max(inputs)\n",
    "        inputs *= 0.98\n",
    "        inputs += 0.01\n",
    "        \n",
    "        return inputs\n",
    "    \n",
    "    # Просмотр карты свойсв\n",
    "    def bd(self, i):\n",
    "        return self.hidden_outputs_image[i]\n",
    "    \n",
    "    def bdmaxpool(self, i):\n",
    "        return self.hidden_outputs_mp[i]\n",
    "        \n",
    "        "
   ]
  },
  {
   "cell_type": "code",
   "execution_count": 3,
   "metadata": {
    "collapsed": true
   },
   "outputs": [],
   "source": [
    "# количество входных, скрытых и выходных узлов\n",
    "input_nodes = 784\n",
    "hidden_nodes = 5184\n",
    "hidden_nodes2 = 1296 # 24/2 * 24/2 * 9 \n",
    "output_nodes = 10\n",
    "\n",
    "# скорость обучения\n",
    "learning_rate = 0.05\n",
    "\n",
    "# создать экземпляр нейронной сети\n",
    "n = neuralNetwork(input_nodes,hidden_nodes,output_nodes, learning_rate, hidden_nodes2)"
   ]
  },
  {
   "cell_type": "code",
   "execution_count": 4,
   "metadata": {
    "collapsed": true
   },
   "outputs": [],
   "source": [
    "# загрузить mnist подготовки данных в формате CSV файла в список\n",
    "training_data_file = open(\"mnist_dataset/mnist_train_100.csv\", 'r') # 'r' - файл для чтения, а не для записи.\n",
    "training_data_list = training_data_file.readlines() # readlines() - читает все строки в файле в переменную training_data_list\n",
    "training_data_file.close() # закрываем фаел csv"
   ]
  },
  {
   "cell_type": "code",
   "execution_count": 5,
   "metadata": {},
   "outputs": [
    {
     "name": "stderr",
     "output_type": "stream",
     "text": [
      "1: 100%|█████████████████████████████████████████████████████████████████████████████| 100/100 [00:03<00:00, 25.17it/s]\n",
      "2: 100%|█████████████████████████████████████████████████████████████████████████████| 100/100 [00:03<00:00, 25.38it/s]\n",
      "3: 100%|█████████████████████████████████████████████████████████████████████████████| 100/100 [00:03<00:00, 25.41it/s]\n",
      "4: 100%|█████████████████████████████████████████████████████████████████████████████| 100/100 [00:03<00:00, 25.40it/s]\n",
      "5: 100%|█████████████████████████████████████████████████████████████████████████████| 100/100 [00:03<00:00, 25.41it/s]\n",
      "6: 100%|█████████████████████████████████████████████████████████████████████████████| 100/100 [00:03<00:00, 25.33it/s]\n",
      "7: 100%|█████████████████████████████████████████████████████████████████████████████| 100/100 [00:03<00:00, 25.43it/s]\n",
      "8: 100%|█████████████████████████████████████████████████████████████████████████████| 100/100 [00:03<00:00, 25.44it/s]\n",
      "9: 100%|█████████████████████████████████████████████████████████████████████████████| 100/100 [00:03<00:00, 25.13it/s]\n",
      "10: 100%|████████████████████████████████████████████████████████████████████████████| 100/100 [00:03<00:00, 25.38it/s]\n"
     ]
    },
    {
     "name": "stdout",
     "output_type": "stream",
     "text": [
      "Время выполнения:  39.49526071548462  сек\n"
     ]
    }
   ],
   "source": [
    "# обучение нейронной сети\n",
    "\n",
    "# эпох, сколько раз обучающий набор данных используется для обучения\n",
    "epochs = 10\n",
    "\n",
    "start = time()\n",
    "for e in range(epochs):\n",
    "    # Пройдите все записи в наборе тренировочных данных    \n",
    "    #for record in training_data_list:\n",
    "    for record in tqdm(training_data_list, desc = str(e+1)): # tqdm - используем интерактив состояния прогресса вычисления\n",
    "    #for record in tqdm_notebook(training_data_list, desc = str(e+1)): # tqdm_notebook - как tqdm только доступна в notebook\n",
    "        # разделите запись запятыми ','\n",
    "        all_values = record.split(',') # split(',') - раздел строку на символы где запятая \",\" символ разделения\n",
    "        # масштабирование и сдвиг входных данных\n",
    "        inputs = (numpy.asfarray(all_values[1:]) / 255.0 * 0.99) + 0.01 #массив данных входа с масштабированием от 0,01 до 0,99        \n",
    "        # создать целевые выходные значения (все 0.01, кроме нужной метки, которая равна 0.99)\n",
    "        targets = numpy.zeros(output_nodes) + 0.01\n",
    "        \n",
    "        # all_values[0] - целевая метка для этой записи\n",
    "        targets[int(all_values[0])] = 0.99 # перевод символов в int, 0 эл. ответ входа\n",
    "        n.train(inputs, targets) # наш метод train - обучение нейронной сети\n",
    "        pass\n",
    "    pass\n",
    "time_out = time() - start\n",
    "print(\"Время выполнения: \", time_out, \" сек\" )"
   ]
  },
  {
   "cell_type": "code",
   "execution_count": 6,
   "metadata": {
    "collapsed": true
   },
   "outputs": [],
   "source": [
    "# Загрузить CSV-файл данных теста mnist в список\n",
    "test_data_file = open(\"mnist_dataset/mnist_test_10.csv\", 'r') # 'r' - файл для чтения, а не для записи.\n",
    "test_data_list = test_data_file.readlines()  # readlines() - читает все строки в файле в переменную test_data_list\n",
    "test_data_file.close() # закрываем фаел csv"
   ]
  },
  {
   "cell_type": "code",
   "execution_count": 7,
   "metadata": {},
   "outputs": [
    {
     "name": "stderr",
     "output_type": "stream",
     "text": [
      "100%|██████████████████████████████████████████████████████████████████████████████████| 10/10 [00:00<00:00, 34.04it/s]\n"
     ]
    }
   ],
   "source": [
    "# проверить нейронную сеть\n",
    "\n",
    "# Карта показателей эффективности сети, изначально пустая\n",
    "scorecard = []\n",
    "\n",
    "# Пройдите все записи в наборе тестовых данных\n",
    "for record in tqdm(test_data_list):\n",
    "    # разделите запись запятыми ',' \n",
    "    all_values = record.split(',') # split(',') - раздел строку на символы где запятая \",\" символ разделения\n",
    "    # правильный ответ-первое значение\n",
    "    correct_label = int(all_values[0])\n",
    "    # масштабирование и сдвиг входных данных\n",
    "    inputs = (numpy.asfarray(all_values[1:]) / 255.0 * 0.99) + 0.01 #массив данных входа с масштабированием от 0,01 до 0,99\n",
    "\n",
    "    # запросить сеть\n",
    "    outputs = n.query(inputs) # прогон по сети тестового значения из нашего файла. Наш метод query \n",
    "    # индекс самого высокого значения соответствует метке\n",
    "    label = numpy.argmax(outputs)\n",
    "    \n",
    "    # добавить правильный или неправильный список\n",
    "    if (label == correct_label): # если макс знач на выходе label = ответу (0 индекс из массива) correct_label\n",
    "        # Ответ сети соответствует правильный ответ, добавить 1 в систему показателей\n",
    "        scorecard.append(1)\n",
    "    else:\n",
    "        # Ответ сети не соответствует правильному ответу, добавьте 0 в систему показателей\n",
    "        scorecard.append(0)\n",
    "        pass\n",
    "    \n",
    "    pass"
   ]
  },
  {
   "cell_type": "code",
   "execution_count": 8,
   "metadata": {},
   "outputs": [
    {
     "name": "stdout",
     "output_type": "stream",
     "text": [
      "performance =  0.6\n"
     ]
    }
   ],
   "source": [
    "# вычислить оценку производительности, доля правильных ответов\n",
    "scorecard_array = numpy.asarray(scorecard) # numpy.asarray - преобразование списка в массив \n",
    "\n",
    "print (\"performance = \", scorecard_array.sum() / scorecard_array.size)"
   ]
  },
  {
   "cell_type": "code",
   "execution_count": 9,
   "metadata": {
    "collapsed": true
   },
   "outputs": [],
   "source": [
    "# наш собственный набор тестовых данных изображения\n",
    "our_own_dataset = []\n",
    "\n",
    "# загрузить данные изображения в формате PNG, как установить тестовые данные\n",
    "for image_file_name in glob.glob('my_own_images/2828_my_own_?.png'): # проход по файлам изобр папке my_own_images\n",
    "    #glob - из библиотеки glob, помогает выбрать несколько файлов, используя шаблоны\n",
    "    \n",
    "    # используйте имя правильно установить метки\n",
    "    label = int(image_file_name[-5:-4]) # хранит число нарисованое в файле ?.png, -5 это число (?)\n",
    "    # от -5 до -4 это будет ? т.е число\n",
    "    \n",
    "    # Загрузить данные изображения из png файлов в массив\n",
    "    print (\"loading ... \", image_file_name) # вывод пути и имени открытого файла\n",
    "    \n",
    "    img_array = scipy.misc.imread(image_file_name, flatten=True) #“flatten=True” (“выровнять=True) ”- превращает \n",
    "    #изображения в простой массив чисел с плавающей запятой\n",
    "    \n",
    "    # изменить формат из 28x28 в список 784 значений, инвертировать значения\n",
    "    img_data  = 255.0 - img_array.reshape(784) #преобразует массив из квадрата 28x28 в длинный список значений\n",
    "    # затем данные шкалы в диапазоне от 0,01 до 1,0 \n",
    "    #вычитание значений массива из 255.0. т.к 0 обычно означает черное и 255 означает белое, но набор данных MNIST  \n",
    "    #имеет обратный путь, поэтому мы должны обратить вспять значения\n",
    "    \n",
    "    # затем данные шкалы в диапазоне от 0,01 до 1,0\n",
    "    img_data = (img_data / 255.0 ) # массив данных входа с масштабированием от 0,01 до 0,99\n",
    "    print(numpy.min(img_data)) # вывод мин знач элемента в обработанном массиве данных\n",
    "    print(numpy.max(img_data)) # вывод макс знач элемента в обработанном массиве данных\n",
    "    \n",
    "    # добавить метку и данные изображения к набору тестовых данных\n",
    "    record = numpy.append(label,img_data)\n",
    "    our_own_dataset.append(record) # массив для matplotlib,чтоб вывести изображенгие\n",
    "    \n",
    "    pass"
   ]
  },
  {
   "cell_type": "code",
   "execution_count": 10,
   "metadata": {
    "scrolled": true
   },
   "outputs": [
    {
     "ename": "IndexError",
     "evalue": "list index out of range",
     "output_type": "error",
     "traceback": [
      "\u001b[1;31m---------------------------------------------------------------------------\u001b[0m",
      "\u001b[1;31mIndexError\u001b[0m                                Traceback (most recent call last)",
      "\u001b[1;32m<ipython-input-10-1d0005cba629>\u001b[0m in \u001b[0;36m<module>\u001b[1;34m()\u001b[0m\n\u001b[0;32m      5\u001b[0m \u001b[1;33m\u001b[0m\u001b[0m\n\u001b[0;32m      6\u001b[0m \u001b[1;31m# изображение участка\u001b[0m\u001b[1;33m\u001b[0m\u001b[1;33m\u001b[0m\u001b[0m\n\u001b[1;32m----> 7\u001b[1;33m \u001b[0mmatplotlib\u001b[0m\u001b[1;33m.\u001b[0m\u001b[0mpyplot\u001b[0m\u001b[1;33m.\u001b[0m\u001b[0mimshow\u001b[0m\u001b[1;33m(\u001b[0m\u001b[0mour_own_dataset\u001b[0m\u001b[1;33m[\u001b[0m\u001b[0mitem\u001b[0m\u001b[1;33m]\u001b[0m\u001b[1;33m[\u001b[0m\u001b[1;36m1\u001b[0m\u001b[1;33m:\u001b[0m\u001b[1;33m]\u001b[0m\u001b[1;33m.\u001b[0m\u001b[0mreshape\u001b[0m\u001b[1;33m(\u001b[0m\u001b[1;36m28\u001b[0m\u001b[1;33m,\u001b[0m\u001b[1;36m28\u001b[0m\u001b[1;33m)\u001b[0m\u001b[1;33m,\u001b[0m \u001b[0mcmap\u001b[0m\u001b[1;33m=\u001b[0m\u001b[1;34m'Greys'\u001b[0m\u001b[1;33m,\u001b[0m \u001b[0minterpolation\u001b[0m\u001b[1;33m=\u001b[0m\u001b[1;34m'None'\u001b[0m\u001b[1;33m)\u001b[0m\u001b[1;33m\u001b[0m\u001b[0m\n\u001b[0m\u001b[0;32m      8\u001b[0m \u001b[1;31m# our_own_dataset- наш собственный набор тестовых данных\u001b[0m\u001b[1;33m\u001b[0m\u001b[1;33m\u001b[0m\u001b[0m\n\u001b[0;32m      9\u001b[0m \u001b[1;33m\u001b[0m\u001b[0m\n",
      "\u001b[1;31mIndexError\u001b[0m: list index out of range"
     ]
    }
   ],
   "source": [
    "# проверить нейронную сеть с нашими собственными изображениями\n",
    "\n",
    "# запись для тестирования\n",
    "item = 2\n",
    "\n",
    "# изображение участка\n",
    "matplotlib.pyplot.imshow(our_own_dataset[item][1:].reshape(28,28), cmap='Greys', interpolation='None')\n",
    "# our_own_dataset- наш собственный набор тестовых данных\n",
    "\n",
    "# правильный ответ-первое значение\n",
    "correct_label = our_own_dataset[item][0] # 3й фаел из папки тестовых данных, 0 - ответ какое число\n",
    "\n",
    "# data-оставшиеся значения\n",
    "inputs = our_own_dataset[item][1:] # значение числа без ответа\n",
    "\n",
    "# запросить сеть\n",
    "outputs = n.query(inputs) # прогоняем тестовую выборку по сети\n",
    "print (outputs) # вывод по выходу сети\n",
    "\n",
    "# индекс самого высокого значения соответствует метке\n",
    "label = numpy.argmax(outputs)\n",
    "print(\"network says \", label)\n",
    "\n",
    "# добавить правильный или неправильный список\n",
    "if (label == correct_label): # если макс знач на выходе label = ответу (0 индекс из массива) correct_label\n",
    "    print (\"match!\") # угадал\n",
    "else:\n",
    "    print (\"no match!\") # не угадал\n",
    "    pass"
   ]
  },
  {
   "cell_type": "code",
   "execution_count": 11,
   "metadata": {},
   "outputs": [
    {
     "data": {
      "image/png": "[encoded data removed]",
      "text/plain": [
       "<matplotlib.figure.Figure at 0x2981f4fbd30>"
      ]
     },
     "metadata": {},
     "output_type": "display_data"
    },
    {
     "data": {
      "image/png": "[encoded data removed]",
      "text/plain": [
       "<matplotlib.figure.Figure at 0x2981f505828>"
      ]
     },
     "metadata": {},
     "output_type": "display_data"
    }
   ],
   "source": [
    "# Данные изображения в признаках(в сврточном слое hidden_jutput)\n",
    "# получить данные изображения\n",
    "image_o2 = n.bd(0)\n",
    "# данные изображения участка\n",
    "matplotlib.pyplot.imshow(image_o2, cmap='Greys', interpolation='None')\n",
    "\n",
    "fig = matplotlib.pyplot.figure(figsize=(10,6))\n",
    "for j in range(9):\n",
    "    ax = fig.add_subplot(3, 3, j+1)\n",
    "    ax.imshow(n.bd(j), \n",
    "              cmap=matplotlib.cm.binary, interpolation='none')\n",
    "    matplotlib.pyplot.xticks(numpy.array([]))\n",
    "    matplotlib.pyplot.yticks(numpy.array([]))\n",
    "matplotlib.pyplot.show()"
   ]
  },
  {
   "cell_type": "code",
   "execution_count": 12,
   "metadata": {},
   "outputs": [
    {
     "data": {
      "image/png": "[encoded data removed]",
      "text/plain": [
       "<matplotlib.figure.Figure at 0x29822db8240>"
      ]
     },
     "metadata": {},
     "output_type": "display_data"
    },
    {
     "data": {
      "image/png": "[encoded data removed]",
      "text/plain": [
       "<matplotlib.figure.Figure at 0x29822da6ba8>"
      ]
     },
     "metadata": {},
     "output_type": "display_data"
    }
   ],
   "source": [
    "# Данные изображения в слое макспула\n",
    "# получить данные изображения\n",
    "image_o2 = n.bdmaxpool(0)\n",
    "# данные изображения участка\n",
    "matplotlib.pyplot.imshow(image_o2, cmap='Greys', interpolation='None')\n",
    "\n",
    "fig = matplotlib.pyplot.figure(figsize=(10,6))\n",
    "for j in range(9):\n",
    "    ax = fig.add_subplot(3, 3, j+1)\n",
    "    ax.imshow(n.bdmaxpool(j), \n",
    "              cmap=matplotlib.cm.binary, interpolation='none')\n",
    "    matplotlib.pyplot.xticks(numpy.array([]))\n",
    "    matplotlib.pyplot.yticks(numpy.array([]))\n",
    "matplotlib.pyplot.show()"
   ]
  },
  {
   "cell_type": "code",
   "execution_count": 11,
   "metadata": {
    "scrolled": true
   },
   "outputs": [
    {
     "name": "stdout",
     "output_type": "stream",
     "text": [
      "[ 0.99  0.01  0.01  0.01  0.01  0.01  0.01  0.01  0.01  0.01]\n"
     ]
    },
    {
     "data": {
      "text/plain": [
       "<matplotlib.image.AxesImage at 0x17af233b240>"
      ]
     },
     "execution_count": 11,
     "metadata": {},
     "output_type": "execute_result"
    },
    {
     "data": {
      "image/png": "[encoded data removed]",
      "text/plain": [
       "<matplotlib.figure.Figure at 0x17ae8e8b2e8>"
      ]
     },
     "metadata": {},
     "output_type": "display_data"
    }
   ],
   "source": [
    "# запустить сеть назад, учитывая метку, посмотреть, какое изображение она производит\n",
    "\n",
    "# label для тестирования\n",
    "label = 0\n",
    "\n",
    "# создать выходные сигналы для этой метки\n",
    "targets = numpy.zeros(output_nodes) + 0.01 # нулевой массив + 0,01\n",
    "\n",
    "# all_values[0] - целевая метка для этой записи\n",
    "targets[label] = 0.99\n",
    "print(targets)\n",
    "\n",
    "# получить данные изображения\n",
    "image_data = n.backquery(targets) # наш метод backquery прогонки назад. targets - входные данные подаваемые на выход сети\n",
    "\n",
    "# данные изображения участка\n",
    "matplotlib.pyplot.imshow(image_data.reshape(28,28), cmap='Greys', interpolation='None')"
   ]
  },
  {
   "cell_type": "code",
   "execution_count": null,
   "metadata": {
    "collapsed": true
   },
   "outputs": [],
   "source": []
  }
 ],
 "metadata": {
  "kernelspec": {
   "display_name": "Python 3",
   "language": "python",
   "name": "python3"
  },
  "language_info": {
   "codemirror_mode": {
    "name": "ipython",
    "version": 3
   },
   "file_extension": ".py",
   "mimetype": "text/x-python",
   "name": "python",
   "nbconvert_exporter": "python",
   "pygments_lexer": "ipython3",
   "version": "3.6.3"
  }
 },
 "nbformat": 4,
 "nbformat_minor": 1
}
